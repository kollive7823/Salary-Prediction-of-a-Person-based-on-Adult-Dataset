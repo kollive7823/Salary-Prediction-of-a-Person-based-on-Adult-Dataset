{
 "cells": [
  {
   "cell_type": "code",
   "execution_count": 84,
   "metadata": {
    "collapsed": true
   },
   "outputs": [],
   "source": [
    "# @hidden_cell\n",
    "# Get rid of annoying warnings\n",
    "import warnings\n",
    "warnings.filterwarnings('ignore')"
   ]
  },
  {
   "cell_type": "code",
   "execution_count": 85,
   "metadata": {
    "collapsed": true
   },
   "outputs": [],
   "source": [
    "import pandas as pd\n",
    "import numpy as np\n",
    "import matplotlib.pyplot as plt \n",
    "import seaborn as sns\n",
    "import re\n",
    "import scipy.stats as stats\n",
    "from sklearn.ensemble import RandomForestClassifier\n",
    "from sklearn.feature_selection import RFE\n",
    "from sklearn.linear_model import LogisticRegression\n",
    "from sklearn.model_selection import train_test_split, cross_val_score\n",
    "from sklearn.metrics import classification_report, confusion_matrix,accuracy_score\n",
    "from sklearn.naive_bayes import GaussianNB\n",
    "from sklearn import svm\n",
    "from sklearn.metrics import roc_curve, auc, roc_auc_score"
   ]
  },
  {
   "cell_type": "code",
   "execution_count": 86,
   "metadata": {
    "collapsed": true
   },
   "outputs": [],
   "source": [
    "# Initialize Global Settings\n",
    "plt.rc(\"font\", size=14) # Set Font Size\n",
    "sns.set(style=\"white\")\n",
    "sns.set(style=\"whitegrid\", color_codes=True)\n"
   ]
  },
  {
   "cell_type": "code",
   "execution_count": 87,
   "metadata": {},
   "outputs": [
    {
     "data": {
      "text/html": [
       "<div>\n",
       "<style>\n",
       "    .dataframe thead tr:only-child th {\n",
       "        text-align: right;\n",
       "    }\n",
       "\n",
       "    .dataframe thead th {\n",
       "        text-align: left;\n",
       "    }\n",
       "\n",
       "    .dataframe tbody tr th {\n",
       "        vertical-align: top;\n",
       "    }\n",
       "</style>\n",
       "<table border=\"1\" class=\"dataframe\">\n",
       "  <thead>\n",
       "    <tr style=\"text-align: right;\">\n",
       "      <th></th>\n",
       "      <th>age</th>\n",
       "      <th>workclass</th>\n",
       "      <th>fnlwgt</th>\n",
       "      <th>education</th>\n",
       "      <th>education-num</th>\n",
       "      <th>marital-status</th>\n",
       "      <th>occupation</th>\n",
       "      <th>relationship</th>\n",
       "      <th>race</th>\n",
       "      <th>sex</th>\n",
       "      <th>capital-gain</th>\n",
       "      <th>capital-loss</th>\n",
       "      <th>hours-per-week</th>\n",
       "      <th>native-country</th>\n",
       "      <th>sal-Ind</th>\n",
       "    </tr>\n",
       "  </thead>\n",
       "  <tbody>\n",
       "    <tr>\n",
       "      <th>0</th>\n",
       "      <td>39</td>\n",
       "      <td>State-gov</td>\n",
       "      <td>77516</td>\n",
       "      <td>Bachelors</td>\n",
       "      <td>13</td>\n",
       "      <td>Never-married</td>\n",
       "      <td>Adm-clerical</td>\n",
       "      <td>Not-in-family</td>\n",
       "      <td>White</td>\n",
       "      <td>Male</td>\n",
       "      <td>2174</td>\n",
       "      <td>0</td>\n",
       "      <td>40</td>\n",
       "      <td>United-States</td>\n",
       "      <td>&lt;=50K</td>\n",
       "    </tr>\n",
       "    <tr>\n",
       "      <th>1</th>\n",
       "      <td>50</td>\n",
       "      <td>Self-emp-not-inc</td>\n",
       "      <td>83311</td>\n",
       "      <td>Bachelors</td>\n",
       "      <td>13</td>\n",
       "      <td>Married-civ-spouse</td>\n",
       "      <td>Exec-managerial</td>\n",
       "      <td>Husband</td>\n",
       "      <td>White</td>\n",
       "      <td>Male</td>\n",
       "      <td>0</td>\n",
       "      <td>0</td>\n",
       "      <td>13</td>\n",
       "      <td>United-States</td>\n",
       "      <td>&lt;=50K</td>\n",
       "    </tr>\n",
       "    <tr>\n",
       "      <th>2</th>\n",
       "      <td>38</td>\n",
       "      <td>Private</td>\n",
       "      <td>215646</td>\n",
       "      <td>HS-grad</td>\n",
       "      <td>9</td>\n",
       "      <td>Divorced</td>\n",
       "      <td>Handlers-cleaners</td>\n",
       "      <td>Not-in-family</td>\n",
       "      <td>White</td>\n",
       "      <td>Male</td>\n",
       "      <td>0</td>\n",
       "      <td>0</td>\n",
       "      <td>40</td>\n",
       "      <td>United-States</td>\n",
       "      <td>&lt;=50K</td>\n",
       "    </tr>\n",
       "    <tr>\n",
       "      <th>3</th>\n",
       "      <td>53</td>\n",
       "      <td>Private</td>\n",
       "      <td>234721</td>\n",
       "      <td>11th</td>\n",
       "      <td>7</td>\n",
       "      <td>Married-civ-spouse</td>\n",
       "      <td>Handlers-cleaners</td>\n",
       "      <td>Husband</td>\n",
       "      <td>Black</td>\n",
       "      <td>Male</td>\n",
       "      <td>0</td>\n",
       "      <td>0</td>\n",
       "      <td>40</td>\n",
       "      <td>United-States</td>\n",
       "      <td>&lt;=50K</td>\n",
       "    </tr>\n",
       "    <tr>\n",
       "      <th>4</th>\n",
       "      <td>28</td>\n",
       "      <td>Private</td>\n",
       "      <td>338409</td>\n",
       "      <td>Bachelors</td>\n",
       "      <td>13</td>\n",
       "      <td>Married-civ-spouse</td>\n",
       "      <td>Prof-specialty</td>\n",
       "      <td>Wife</td>\n",
       "      <td>Black</td>\n",
       "      <td>Female</td>\n",
       "      <td>0</td>\n",
       "      <td>0</td>\n",
       "      <td>40</td>\n",
       "      <td>Cuba</td>\n",
       "      <td>&lt;=50K</td>\n",
       "    </tr>\n",
       "  </tbody>\n",
       "</table>\n",
       "</div>"
      ],
      "text/plain": [
       "   age         workclass  fnlwgt  education  education-num  \\\n",
       "0   39         State-gov   77516  Bachelors             13   \n",
       "1   50  Self-emp-not-inc   83311  Bachelors             13   \n",
       "2   38           Private  215646    HS-grad              9   \n",
       "3   53           Private  234721       11th              7   \n",
       "4   28           Private  338409  Bachelors             13   \n",
       "\n",
       "       marital-status         occupation   relationship   race     sex  \\\n",
       "0       Never-married       Adm-clerical  Not-in-family  White    Male   \n",
       "1  Married-civ-spouse    Exec-managerial        Husband  White    Male   \n",
       "2            Divorced  Handlers-cleaners  Not-in-family  White    Male   \n",
       "3  Married-civ-spouse  Handlers-cleaners        Husband  Black    Male   \n",
       "4  Married-civ-spouse     Prof-specialty           Wife  Black  Female   \n",
       "\n",
       "   capital-gain  capital-loss  hours-per-week native-country sal-Ind  \n",
       "0          2174             0              40  United-States   <=50K  \n",
       "1             0             0              13  United-States   <=50K  \n",
       "2             0             0              40  United-States   <=50K  \n",
       "3             0             0              40  United-States   <=50K  \n",
       "4             0             0              40           Cuba   <=50K  "
      ]
     },
     "execution_count": 87,
     "metadata": {},
     "output_type": "execute_result"
    }
   ],
   "source": [
    "# Read in Data and convert to pandas data frame\n",
    "data_raw = pd.read_csv('dataset.csv',skipinitialspace=True,header = 0,na_values=[\" \"])\n",
    "data = pd.DataFrame(data_raw)\n",
    "data.head()"
   ]
  },
  {
   "cell_type": "code",
   "execution_count": 88,
   "metadata": {},
   "outputs": [
    {
     "data": {
      "text/html": [
       "<div>\n",
       "<style>\n",
       "    .dataframe thead tr:only-child th {\n",
       "        text-align: right;\n",
       "    }\n",
       "\n",
       "    .dataframe thead th {\n",
       "        text-align: left;\n",
       "    }\n",
       "\n",
       "    .dataframe tbody tr th {\n",
       "        vertical-align: top;\n",
       "    }\n",
       "</style>\n",
       "<table border=\"1\" class=\"dataframe\">\n",
       "  <thead>\n",
       "    <tr style=\"text-align: right;\">\n",
       "      <th></th>\n",
       "      <th>age</th>\n",
       "      <th>fnlwgt</th>\n",
       "      <th>education-num</th>\n",
       "      <th>capital-gain</th>\n",
       "      <th>capital-loss</th>\n",
       "      <th>hours-per-week</th>\n",
       "    </tr>\n",
       "  </thead>\n",
       "  <tbody>\n",
       "    <tr>\n",
       "      <th>count</th>\n",
       "      <td>32561.000000</td>\n",
       "      <td>3.256100e+04</td>\n",
       "      <td>32561.000000</td>\n",
       "      <td>32561.000000</td>\n",
       "      <td>32561.000000</td>\n",
       "      <td>32561.000000</td>\n",
       "    </tr>\n",
       "    <tr>\n",
       "      <th>mean</th>\n",
       "      <td>38.581647</td>\n",
       "      <td>1.897784e+05</td>\n",
       "      <td>10.080679</td>\n",
       "      <td>1077.648844</td>\n",
       "      <td>87.303830</td>\n",
       "      <td>40.437456</td>\n",
       "    </tr>\n",
       "    <tr>\n",
       "      <th>std</th>\n",
       "      <td>13.640433</td>\n",
       "      <td>1.055500e+05</td>\n",
       "      <td>2.572720</td>\n",
       "      <td>7385.292085</td>\n",
       "      <td>402.960219</td>\n",
       "      <td>12.347429</td>\n",
       "    </tr>\n",
       "    <tr>\n",
       "      <th>min</th>\n",
       "      <td>17.000000</td>\n",
       "      <td>1.228500e+04</td>\n",
       "      <td>1.000000</td>\n",
       "      <td>0.000000</td>\n",
       "      <td>0.000000</td>\n",
       "      <td>1.000000</td>\n",
       "    </tr>\n",
       "    <tr>\n",
       "      <th>25%</th>\n",
       "      <td>28.000000</td>\n",
       "      <td>1.178270e+05</td>\n",
       "      <td>9.000000</td>\n",
       "      <td>0.000000</td>\n",
       "      <td>0.000000</td>\n",
       "      <td>40.000000</td>\n",
       "    </tr>\n",
       "    <tr>\n",
       "      <th>50%</th>\n",
       "      <td>37.000000</td>\n",
       "      <td>1.783560e+05</td>\n",
       "      <td>10.000000</td>\n",
       "      <td>0.000000</td>\n",
       "      <td>0.000000</td>\n",
       "      <td>40.000000</td>\n",
       "    </tr>\n",
       "    <tr>\n",
       "      <th>75%</th>\n",
       "      <td>48.000000</td>\n",
       "      <td>2.370510e+05</td>\n",
       "      <td>12.000000</td>\n",
       "      <td>0.000000</td>\n",
       "      <td>0.000000</td>\n",
       "      <td>45.000000</td>\n",
       "    </tr>\n",
       "    <tr>\n",
       "      <th>max</th>\n",
       "      <td>90.000000</td>\n",
       "      <td>1.484705e+06</td>\n",
       "      <td>16.000000</td>\n",
       "      <td>99999.000000</td>\n",
       "      <td>4356.000000</td>\n",
       "      <td>99.000000</td>\n",
       "    </tr>\n",
       "  </tbody>\n",
       "</table>\n",
       "</div>"
      ],
      "text/plain": [
       "                age        fnlwgt  education-num  capital-gain  capital-loss  \\\n",
       "count  32561.000000  3.256100e+04   32561.000000  32561.000000  32561.000000   \n",
       "mean      38.581647  1.897784e+05      10.080679   1077.648844     87.303830   \n",
       "std       13.640433  1.055500e+05       2.572720   7385.292085    402.960219   \n",
       "min       17.000000  1.228500e+04       1.000000      0.000000      0.000000   \n",
       "25%       28.000000  1.178270e+05       9.000000      0.000000      0.000000   \n",
       "50%       37.000000  1.783560e+05      10.000000      0.000000      0.000000   \n",
       "75%       48.000000  2.370510e+05      12.000000      0.000000      0.000000   \n",
       "max       90.000000  1.484705e+06      16.000000  99999.000000   4356.000000   \n",
       "\n",
       "       hours-per-week  \n",
       "count    32561.000000  \n",
       "mean        40.437456  \n",
       "std         12.347429  \n",
       "min          1.000000  \n",
       "25%         40.000000  \n",
       "50%         40.000000  \n",
       "75%         45.000000  \n",
       "max         99.000000  "
      ]
     },
     "execution_count": 88,
     "metadata": {},
     "output_type": "execute_result"
    }
   ],
   "source": [
    "# View Descriptive Statistics\n",
    "data.describe()"
   ]
  },
  {
   "cell_type": "code",
   "execution_count": 89,
   "metadata": {},
   "outputs": [
    {
     "data": {
      "text/plain": [
       "workclass         1836\n",
       "occupation        1843\n",
       "native-country     583\n",
       "dtype: int64"
      ]
     },
     "execution_count": 89,
     "metadata": {},
     "output_type": "execute_result"
    }
   ],
   "source": [
    "# Get count of missing values by field\n",
    "data.isnull().sum()[data.isnull().sum() > 0]"
   ]
  },
  {
   "cell_type": "code",
   "execution_count": 90,
   "metadata": {},
   "outputs": [
    {
     "data": {
      "text/plain": [
       "30162"
      ]
     },
     "execution_count": 90,
     "metadata": {},
     "output_type": "execute_result"
    }
   ],
   "source": [
    "#dropping null values\n",
    "data = data.dropna()\n",
    "len(data)"
   ]
  },
  {
   "cell_type": "code",
   "execution_count": 91,
   "metadata": {},
   "outputs": [
    {
     "data": {
      "text/plain": [
       "Series([], dtype: int64)"
      ]
     },
     "execution_count": 91,
     "metadata": {},
     "output_type": "execute_result"
    }
   ],
   "source": [
    "# Get count of missing values by field\n",
    "data.isnull().sum()[data.isnull().sum() > 0]"
   ]
  },
  {
   "cell_type": "code",
   "execution_count": 92,
   "metadata": {},
   "outputs": [
    {
     "data": {
      "text/html": [
       "<div>\n",
       "<style>\n",
       "    .dataframe thead tr:only-child th {\n",
       "        text-align: right;\n",
       "    }\n",
       "\n",
       "    .dataframe thead th {\n",
       "        text-align: left;\n",
       "    }\n",
       "\n",
       "    .dataframe tbody tr th {\n",
       "        vertical-align: top;\n",
       "    }\n",
       "</style>\n",
       "<table border=\"1\" class=\"dataframe\">\n",
       "  <thead>\n",
       "    <tr style=\"text-align: right;\">\n",
       "      <th></th>\n",
       "      <th>age</th>\n",
       "      <th>fnlwgt</th>\n",
       "      <th>education-num</th>\n",
       "      <th>capital-gain</th>\n",
       "      <th>capital-loss</th>\n",
       "      <th>hours-per-week</th>\n",
       "    </tr>\n",
       "    <tr>\n",
       "      <th>sal-Ind</th>\n",
       "      <th></th>\n",
       "      <th></th>\n",
       "      <th></th>\n",
       "      <th></th>\n",
       "      <th></th>\n",
       "      <th></th>\n",
       "    </tr>\n",
       "  </thead>\n",
       "  <tbody>\n",
       "    <tr>\n",
       "      <th>&lt;=50K</th>\n",
       "      <td>36.60806</td>\n",
       "      <td>190338.646729</td>\n",
       "      <td>9.629116</td>\n",
       "      <td>148.893838</td>\n",
       "      <td>53.448000</td>\n",
       "      <td>39.348592</td>\n",
       "    </tr>\n",
       "    <tr>\n",
       "      <th>&gt;50K</th>\n",
       "      <td>43.95911</td>\n",
       "      <td>188149.962174</td>\n",
       "      <td>11.606420</td>\n",
       "      <td>3937.679808</td>\n",
       "      <td>193.750666</td>\n",
       "      <td>45.706580</td>\n",
       "    </tr>\n",
       "  </tbody>\n",
       "</table>\n",
       "</div>"
      ],
      "text/plain": [
       "              age         fnlwgt  education-num  capital-gain  capital-loss  \\\n",
       "sal-Ind                                                                       \n",
       "<=50K    36.60806  190338.646729       9.629116    148.893838     53.448000   \n",
       ">50K     43.95911  188149.962174      11.606420   3937.679808    193.750666   \n",
       "\n",
       "         hours-per-week  \n",
       "sal-Ind                  \n",
       "<=50K         39.348592  \n",
       ">50K          45.706580  "
      ]
     },
     "execution_count": 92,
     "metadata": {},
     "output_type": "execute_result"
    }
   ],
   "source": [
    "# Means of continous variables by salary\n",
    "data.groupby('sal-Ind').mean()"
   ]
  },
  {
   "cell_type": "code",
   "execution_count": 93,
   "metadata": {},
   "outputs": [
    {
     "name": "stdout",
     "output_type": "stream",
     "text": [
      "<class 'pandas.core.frame.DataFrame'>\n",
      "Int64Index: 30162 entries, 0 to 32560\n",
      "Data columns (total 15 columns):\n",
      "age               30162 non-null int64\n",
      "workclass         30162 non-null object\n",
      "fnlwgt            30162 non-null int64\n",
      "education         30162 non-null object\n",
      "education-num     30162 non-null int64\n",
      "marital-status    30162 non-null object\n",
      "occupation        30162 non-null object\n",
      "relationship      30162 non-null object\n",
      "race              30162 non-null object\n",
      "sex               30162 non-null object\n",
      "capital-gain      30162 non-null int64\n",
      "capital-loss      30162 non-null int64\n",
      "hours-per-week    30162 non-null int64\n",
      "native-country    30162 non-null object\n",
      "sal-Ind           30162 non-null object\n",
      "dtypes: int64(6), object(9)\n",
      "memory usage: 3.7+ MB\n"
     ]
    }
   ],
   "source": [
    "data.info()"
   ]
  },
  {
   "cell_type": "code",
   "execution_count": 94,
   "metadata": {
    "collapsed": true
   },
   "outputs": [],
   "source": [
    "#encoding response variable(sal-Ind) as 1(>50K) and 0(<=50K)\n",
    "data['sal-Ind'] = data['sal-Ind'].map({'<=50K': 0, '>50K': 1})"
   ]
  },
  {
   "cell_type": "code",
   "execution_count": 95,
   "metadata": {
    "collapsed": true
   },
   "outputs": [],
   "source": [
    "NorthAmerica = [\"Canada\", \"Cuba\", \"Dominican-Republic\", \"El-Salvador\", \"Guatemala\",\n",
    "                   \"Haiti\", \"Honduras\", \"Jamaica\", \"Mexico\", \"Nicaragua\",\n",
    "                   \"Outlying-US(Guam-USVI-etc)\", \"Puerto-Rico\", \"Trinadad&Tobago\",\n",
    "                   \"United-States\"]\n",
    "Asia = [\"Cambodia\", \"China\", \"Hong\", \"India\", \"Iran\", \"Japan\", \"Laos\",\n",
    "          \"Philippines\", \"Taiwan\", \"Thailand\", \"Vietnam\"]\n",
    "SouthAmerica = [\"Columbia\", \"Ecuador\", \"Peru\"]\n",
    "Europe = [\"England\", \"France\", \"Germany\", \"Greece\", \"Holand-Netherlands\",\n",
    "            \"Hungary\", \"Ireland\", \"Italy\", \"Poland\", \"Portugal\", \"Scotland\",\n",
    "            \"Yugoslavia\"]\n",
    "Other = [\"South\", \"?\"]\n",
    "\n"
   ]
  },
  {
   "cell_type": "code",
   "execution_count": 96,
   "metadata": {
    "collapsed": true
   },
   "outputs": [],
   "source": [
    "continents = {country: 'Asia' for country in Asia}\n",
    "continents.update({country: 'Europe' for country in Europe})\n",
    "continents.update({country: 'NorthAmerica' for country in NorthAmerica})\n",
    "continents.update({country: 'SouthAmerica' for country in SouthAmerica})\n",
    "continents.update({country: 'Other' for country in Other})\n",
    "#continents"
   ]
  },
  {
   "cell_type": "code",
   "execution_count": 97,
   "metadata": {
    "collapsed": true
   },
   "outputs": [],
   "source": [
    "data['native-country'] = data['native-country'].map(continents)"
   ]
  },
  {
   "cell_type": "code",
   "execution_count": 98,
   "metadata": {},
   "outputs": [
    {
     "data": {
      "text/plain": [
       "NorthAmerica    28851\n",
       "Asia              634\n",
       "Europe            493\n",
       "SouthAmerica      113\n",
       "Other              71\n",
       "Name: native-country, dtype: int64"
      ]
     },
     "execution_count": 98,
     "metadata": {},
     "output_type": "execute_result"
    }
   ],
   "source": [
    "data['native-country'].value_counts()"
   ]
  },
  {
   "cell_type": "code",
   "execution_count": 99,
   "metadata": {},
   "outputs": [
    {
     "data": {
      "image/png": "[encoded data removed]",
      "text/plain": [
       "<matplotlib.figure.Figure at 0x16798cf7198>"
      ]
     },
     "metadata": {},
     "output_type": "display_data"
    }
   ],
   "source": [
    "import math\n",
    "fig = plt.figure(figsize=(20,15))\n",
    "cols = 5\n",
    "rows = math.ceil(float(data.shape[1]) / cols)\n",
    "for i, column in enumerate(data.columns):\n",
    "    ax = fig.add_subplot(rows, cols, i + 1)\n",
    "    ax.set_title(column)\n",
    "    if data.dtypes[column] == np.object:\n",
    "        data[column].value_counts().plot(kind=\"bar\", axes=ax)\n",
    "    else:\n",
    "        data[column].hist(axes=ax)\n",
    "        plt.xticks(rotation=\"vertical\")\n",
    "plt.subplots_adjust(hspace=0.7, wspace=0.2)\n",
    "plt.show()"
   ]
  },
  {
   "cell_type": "code",
   "execution_count": 100,
   "metadata": {},
   "outputs": [
    {
     "data": {
      "image/png": "[encoded data removed]",
      "text/plain": [
       "<matplotlib.figure.Figure at 0x1678346b908>"
      ]
     },
     "metadata": {},
     "output_type": "display_data"
    }
   ],
   "source": [
    "x=data.corr()\n",
    "sns.heatmap(x)\n",
    "plt.title(\"Correlation\")\n",
    "plt.show()"
   ]
  },
  {
   "cell_type": "code",
   "execution_count": 101,
   "metadata": {},
   "outputs": [
    {
     "data": {
      "text/plain": [
       "sal-Ind           1.000000\n",
       "education-num     0.335286\n",
       "age               0.241998\n",
       "hours-per-week    0.229480\n",
       "capital-gain      0.221196\n",
       "capital-loss      0.150053\n",
       "fnlwgt           -0.008957\n",
       "Name: sal-Ind, dtype: float64"
      ]
     },
     "execution_count": 101,
     "metadata": {},
     "output_type": "execute_result"
    }
   ],
   "source": [
    "# View correlations with class\n",
    "x['sal-Ind'].sort_values(ascending=False)"
   ]
  },
  {
   "cell_type": "code",
   "execution_count": 102,
   "metadata": {},
   "outputs": [
    {
     "name": "stdout",
     "output_type": "stream",
     "text": [
      "Data shape: (30162, 69)\n",
      "0: age\n",
      "1: fnlwgt\n",
      "2: education-num\n",
      "3: capital-gain\n",
      "4: capital-loss\n",
      "5: hours-per-week\n",
      "6: sal-Ind\n",
      "7: workclass_Federal-gov\n",
      "8: workclass_Local-gov\n",
      "9: workclass_Private\n",
      "10: workclass_Self-emp-inc\n",
      "11: workclass_Self-emp-not-inc\n",
      "12: workclass_State-gov\n",
      "13: workclass_Without-pay\n",
      "14: education_10th\n",
      "15: education_11th\n",
      "16: education_12th\n",
      "17: education_1st-4th\n",
      "18: education_5th-6th\n",
      "19: education_7th-8th\n",
      "20: education_9th\n",
      "21: education_Assoc-acdm\n",
      "22: education_Assoc-voc\n",
      "23: education_Bachelors\n",
      "24: education_Doctorate\n",
      "25: education_HS-grad\n",
      "26: education_Masters\n",
      "27: education_Preschool\n",
      "28: education_Prof-school\n",
      "29: education_Some-college\n",
      "30: marital-status_Divorced\n",
      "31: marital-status_Married-AF-spouse\n",
      "32: marital-status_Married-civ-spouse\n",
      "33: marital-status_Married-spouse-absent\n",
      "34: marital-status_Never-married\n",
      "35: marital-status_Separated\n",
      "36: marital-status_Widowed\n",
      "37: occupation_Adm-clerical\n",
      "38: occupation_Armed-Forces\n",
      "39: occupation_Craft-repair\n",
      "40: occupation_Exec-managerial\n",
      "41: occupation_Farming-fishing\n",
      "42: occupation_Handlers-cleaners\n",
      "43: occupation_Machine-op-inspct\n",
      "44: occupation_Other-service\n",
      "45: occupation_Priv-house-serv\n",
      "46: occupation_Prof-specialty\n",
      "47: occupation_Protective-serv\n",
      "48: occupation_Sales\n",
      "49: occupation_Tech-support\n",
      "50: occupation_Transport-moving\n",
      "51: relationship_Husband\n",
      "52: relationship_Not-in-family\n",
      "53: relationship_Other-relative\n",
      "54: relationship_Own-child\n",
      "55: relationship_Unmarried\n",
      "56: relationship_Wife\n",
      "57: race_Amer-Indian-Eskimo\n",
      "58: race_Asian-Pac-Islander\n",
      "59: race_Black\n",
      "60: race_Other\n",
      "61: race_White\n",
      "62: sex_Female\n",
      "63: sex_Male\n",
      "64: native-country_Asia\n",
      "65: native-country_Europe\n",
      "66: native-country_NorthAmerica\n",
      "67: native-country_Other\n",
      "68: native-country_SouthAmerica\n"
     ]
    }
   ],
   "source": [
    "#Creating Dummies\n",
    "data2=pd.get_dummies(data,columns=['workclass','education','marital-status','occupation','relationship',\n",
    "                                   'race','sex','native-country'])\n",
    "print(\"Data shape:\", data2.shape)\n",
    "for i,j in enumerate(list(data2.columns)):\n",
    "    print (str(i) + \": \" + j)"
   ]
  },
  {
   "cell_type": "code",
   "execution_count": 103,
   "metadata": {
    "collapsed": true
   },
   "outputs": [],
   "source": [
    "cols = data2.columns.tolist()\n",
    "cols.insert(0, cols.pop(cols.index('sal-Ind')))\n",
    "data2 = data2.reindex(columns= cols)\n",
    "#data2"
   ]
  },
  {
   "cell_type": "code",
   "execution_count": 104,
   "metadata": {},
   "outputs": [
    {
     "name": "stdout",
     "output_type": "stream",
     "text": [
      "Num Features: 29\n",
      "Selected Features: [False False False False False False  True False False  True False False\n",
      "  True False False False False False False False False False False  True\n",
      " False False  True  True False  True False  True  True  True  True  True\n",
      " False False False  True  True  True False  True  True  True  True  True\n",
      "  True False False False  True  True False  True  True False False  True\n",
      " False  True False False False False  True  True]\n",
      "Feature Ranking: [30 35  6 34 33 28  1 38 22  1  8  3  1 16 10 11 25 18 15 13  5 12 27  1\n",
      " 14  9  1  1 17  1 36  1  1  1  1  1 29 39 31  1  1  1  2  1  1  1  1  1\n",
      "  1 26 23 24  1  1  7  1  1 20 19  1 21  1  4 40 37 32  1  1]\n"
     ]
    },
    {
     "data": {
      "text/plain": [
       "Index(['sal-Ind', 'workclass_Federal-gov', 'workclass_Self-emp-inc',\n",
       "       'workclass_Without-pay', 'education_Doctorate', 'education_Preschool',\n",
       "       'education_Prof-school', 'marital-status_Divorced',\n",
       "       'marital-status_Married-civ-spouse',\n",
       "       'marital-status_Married-spouse-absent', 'marital-status_Never-married',\n",
       "       'marital-status_Separated', 'marital-status_Widowed',\n",
       "       'occupation_Exec-managerial', 'occupation_Farming-fishing',\n",
       "       'occupation_Handlers-cleaners', 'occupation_Other-service',\n",
       "       'occupation_Priv-house-serv', 'occupation_Prof-specialty',\n",
       "       'occupation_Protective-serv', 'occupation_Sales',\n",
       "       'occupation_Tech-support', 'relationship_Other-relative',\n",
       "       'relationship_Own-child', 'relationship_Wife',\n",
       "       'race_Amer-Indian-Eskimo', 'race_Other', 'sex_Female',\n",
       "       'native-country_Other', 'native-country_SouthAmerica'],\n",
       "      dtype='object')"
      ]
     },
     "execution_count": 104,
     "metadata": {},
     "output_type": "execute_result"
    }
   ],
   "source": [
    "#Building Logistic Regression Model for selecting important features using Recursive Feature Elimination(RFE)\n",
    "A = data2.iloc[:,1:]\n",
    "b = data2.iloc[:,0]\n",
    "classifier = LogisticRegression(random_state = 5)\n",
    "from sklearn.feature_selection import RFE\n",
    "rfe = RFE(classifier,29)\n",
    "classifier = rfe.fit(A, b)\n",
    "print(\"Num Features: %d\" % (classifier.n_features_,))\n",
    "print(\"Selected Features: %s\" % (classifier.support_,))\n",
    "print(\"Feature Ranking: %s\" % (classifier.ranking_,))\n",
    "data2.shape\n",
    "asdf = (classifier.support_,)\n",
    "q = asdf[0].tolist()\n",
    "#print(q)\n",
    "dip = []        \n",
    "for i, j in enumerate (q) :\n",
    "    if j == False:\n",
    "        dip.append(i+1)\n",
    "data2 = data2.drop(data2.columns[dip], axis=1)\n",
    "data2.columns\n"
   ]
  },
  {
   "cell_type": "code",
   "execution_count": 105,
   "metadata": {
    "collapsed": true
   },
   "outputs": [],
   "source": [
    "#Building model after feature selection ---split data into train and test\n",
    "X = data2.iloc[:,1:]\n",
    "y = data2.iloc[:,0]\n",
    "X_train, X_test, y_train, y_test = train_test_split(X, y,test_size = 0.25,random_state = 5)\n"
   ]
  },
  {
   "cell_type": "code",
   "execution_count": 106,
   "metadata": {},
   "outputs": [
    {
     "name": "stdout",
     "output_type": "stream",
     "text": [
      "[[5231  397]\n",
      " [1007  906]]\n"
     ]
    }
   ],
   "source": [
    "#Building Logistic Regression Model\n",
    "classifier = LogisticRegression(random_state = 5)\n",
    "classifier.fit(X_train, y_train)\n",
    "from sklearn.metrics import confusion_matrix\n",
    "#Predicting and Confusion Matrix\n",
    "y_pred = classifier.predict(X_test)\n",
    "y_pred_prob = classifier.predict_proba(X_test)[:, 1]\n",
    "confusion_matrix = confusion_matrix(y_test, y_pred)\n",
    "print(confusion_matrix)"
   ]
  },
  {
   "cell_type": "code",
   "execution_count": 107,
   "metadata": {},
   "outputs": [
    {
     "name": "stdout",
     "output_type": "stream",
     "text": [
      "Accuracy of logistic regression classifier on test set: 0.81\n"
     ]
    }
   ],
   "source": [
    "#Caluclating Accuracy\n",
    "print('Accuracy of logistic regression classifier on test set: {:.2f}'.format(classifier.score(X_test, y_test)))\n"
   ]
  },
  {
   "cell_type": "code",
   "execution_count": 108,
   "metadata": {},
   "outputs": [
    {
     "name": "stdout",
     "output_type": "stream",
     "text": [
      "             precision    recall  f1-score   support\n",
      "\n",
      "          0       0.84      0.93      0.88      5628\n",
      "          1       0.70      0.47      0.56      1913\n",
      "\n",
      "avg / total       0.80      0.81      0.80      7541\n",
      "\n"
     ]
    }
   ],
   "source": [
    "#Caluclating Precision and F-score\n",
    "from sklearn.metrics import classification_report\n",
    "print(classification_report(y_test, y_pred))"
   ]
  },
  {
   "cell_type": "code",
   "execution_count": 109,
   "metadata": {},
   "outputs": [
    {
     "data": {
      "text/plain": [
       "array([[ 0.7298421 ,  0.56857298, -0.7611871 ,  1.47030988, -1.27510103,\n",
       "         1.35823874, -0.7693503 ,  0.6753385 , -0.77785965, -1.32154632,\n",
       "        -0.98886971, -0.50617282,  1.45877652, -0.72976067, -0.81761685,\n",
       "        -0.99988993, -1.11212132,  1.39354679,  0.62825674,  0.77990894,\n",
       "         0.96978153, -0.96347703, -1.61122845,  1.21826376, -0.79563552,\n",
       "        -1.16073415, -1.02473345, -0.75880838, -1.360781  ]])"
      ]
     },
     "execution_count": 109,
     "metadata": {},
     "output_type": "execute_result"
    }
   ],
   "source": [
    "#Weights of each feature\n",
    "classifier.coef_"
   ]
  },
  {
   "cell_type": "code",
   "execution_count": 110,
   "metadata": {},
   "outputs": [
    {
     "name": "stdout",
     "output_type": "stream",
     "text": [
      "[0.8080875  0.82532317 0.82029178 0.80603448 0.81863395 0.80669761\n",
      " 0.8219496  0.81863395 0.81763926 0.80769231]\n",
      "average accuracy: 0.815098361715091\n"
     ]
    }
   ],
   "source": [
    "#K-fold cross validation\n",
    "from sklearn import model_selection\n",
    "fold = model_selection.KFold(n_splits=10, random_state=7)\n",
    "scores = cross_val_score(classifier, X, y, cv=fold)\n",
    "print(scores)\n",
    "print('average accuracy: {}'.format(scores.mean()))"
   ]
  },
  {
   "cell_type": "code",
   "execution_count": 111,
   "metadata": {},
   "outputs": [
    {
     "name": "stdout",
     "output_type": "stream",
     "text": [
      "Area under ROC: 0.8625105002951785\n"
     ]
    },
    {
     "data": {
      "image/png": "[encoded data removed]",
      "text/plain": [
       "<matplotlib.figure.Figure at 0x16799658b00>"
      ]
     },
     "metadata": {},
     "output_type": "display_data"
    }
   ],
   "source": [
    "#Define a function to draw ROC\n",
    "def drawROC(y_test, y_pred_prob, cl_name):\n",
    "    fpr = dict()\n",
    "    tpr = dict()\n",
    "    roc_auc = dict()\n",
    "    for i in range(2):\n",
    "        fpr[i], tpr[i], th_ = roc_curve(y_test, y_pred_prob)\n",
    "        roc_auc[i] = auc(fpr[i], tpr[i])\n",
    "    \n",
    "    print(\"Area under ROC:\",roc_auc_score(y_test, y_pred_prob))\n",
    "    plt.figure()\n",
    "    plt.plot(fpr[1], tpr[1], color = 'navy')\n",
    "    plt.plot([0, 1], [0, 1], color='green', lw=2, linestyle='--')\n",
    "    plt.xlim([0.0, 1.0])\n",
    "    plt.ylim([0.0, 1.05])\n",
    "    plt.xlabel('1-Specificity')\n",
    "    plt.ylabel('Sensitivity')\n",
    "    plt.title('Receiver operating characteristic: '+cl_name)\n",
    "    plt.show()\n",
    "\n",
    "#ROC of logistic Regression\n",
    "drawROC(y_test, y_pred_prob, 'Logistic Regression')"
   ]
  },
  {
   "cell_type": "code",
   "execution_count": 112,
   "metadata": {},
   "outputs": [
    {
     "name": "stdout",
     "output_type": "stream",
     "text": [
      "[[5072  556]\n",
      " [ 865 1048]]\n"
     ]
    }
   ],
   "source": [
    "#Support Vector Machines\n",
    "from sklearn import svm\n",
    "svc = svm.SVC(kernel='linear', C=1).fit(X_train, y_train)\n",
    "y_pred = svc.predict(X_test)\n",
    "from sklearn.metrics import confusion_matrix\n",
    "confusion_matrix1 = confusion_matrix(y_test, y_pred)\n",
    "print(confusion_matrix1)"
   ]
  },
  {
   "cell_type": "code",
   "execution_count": 113,
   "metadata": {},
   "outputs": [
    {
     "name": "stdout",
     "output_type": "stream",
     "text": [
      "Accuracy of SVM classifier on test set: 0.81\n"
     ]
    }
   ],
   "source": [
    "#Caluclating Accuracy\n",
    "print('Accuracy of SVM classifier on test set: {:.2f}'.format(svc.score(X_test, y_test)))"
   ]
  },
  {
   "cell_type": "code",
   "execution_count": 114,
   "metadata": {
    "scrolled": true
   },
   "outputs": [
    {
     "name": "stdout",
     "output_type": "stream",
     "text": [
      "             precision    recall  f1-score   support\n",
      "\n",
      "          0       0.85      0.90      0.88      5628\n",
      "          1       0.65      0.55      0.60      1913\n",
      "\n",
      "avg / total       0.80      0.81      0.81      7541\n",
      "\n"
     ]
    }
   ],
   "source": [
    "#Caluclating Precision and F-score\n",
    "from sklearn.metrics import classification_report\n",
    "print(classification_report(y_test, y_pred))"
   ]
  },
  {
   "cell_type": "code",
   "execution_count": 115,
   "metadata": {},
   "outputs": [
    {
     "name": "stdout",
     "output_type": "stream",
     "text": [
      "[[4336 1292]\n",
      " [ 708 1205]]\n"
     ]
    }
   ],
   "source": [
    "#KNN Classifier with 3 neighbors\n",
    "from sklearn.neighbors import KNeighborsClassifier\n",
    "classifier_KNN = KNeighborsClassifier(n_neighbors=3)\n",
    "classifier_KNN.fit(X_train, y_train)\n",
    "y_pred = classifier_KNN.predict(X_test)\n",
    "from sklearn.metrics import confusion_matrix\n",
    "confusion_matrix1 = confusion_matrix(y_test, y_pred)\n",
    "print(confusion_matrix1)"
   ]
  },
  {
   "cell_type": "code",
   "execution_count": 116,
   "metadata": {},
   "outputs": [
    {
     "name": "stdout",
     "output_type": "stream",
     "text": [
      "Accuracy of KNN classifier on test set: 0.73\n"
     ]
    }
   ],
   "source": [
    "#Caluclating Accuracy\n",
    "print('Accuracy of KNN classifier on test set: {:.2f}'.format(classifier_KNN.score(X_test, y_test)))"
   ]
  },
  {
   "cell_type": "code",
   "execution_count": 117,
   "metadata": {},
   "outputs": [
    {
     "name": "stdout",
     "output_type": "stream",
     "text": [
      "             precision    recall  f1-score   support\n",
      "\n",
      "          0       0.86      0.77      0.81      5628\n",
      "          1       0.48      0.63      0.55      1913\n",
      "\n",
      "avg / total       0.76      0.73      0.75      7541\n",
      "\n"
     ]
    }
   ],
   "source": [
    "y_pred=classifier_KNN.predict(X_test)\n",
    "#Classification Report\n",
    "print(classification_report(y_test, y_pred, target_names=[\"0\",\"1\"]))"
   ]
  },
  {
   "cell_type": "code",
   "execution_count": 39,
   "metadata": {},
   "outputs": [
    {
     "name": "stderr",
     "output_type": "stream",
     "text": [
      "Using TensorFlow backend.\n"
     ]
    }
   ],
   "source": [
    "import keras\n",
    "from keras.models import Sequential\n",
    "from keras.layers import Dense,Flatten"
   ]
  },
  {
   "cell_type": "code",
   "execution_count": 40,
   "metadata": {
    "collapsed": true
   },
   "outputs": [],
   "source": [
    "model = Sequential()\n",
    "# Feature Scaling\n",
    "from sklearn.preprocessing import StandardScaler\n",
    "sc = StandardScaler()\n",
    "X_train = sc.fit_transform(X_train)\n",
    "X_test = sc.transform(X_test)"
   ]
  },
  {
   "cell_type": "code",
   "execution_count": 41,
   "metadata": {
    "collapsed": true
   },
   "outputs": [],
   "source": [
    "# Adding the input layer and the first hidden layer\n",
    "model.add(Dense(output_dim = 15, init = 'uniform', activation = 'relu', input_dim = 29))\n",
    "# Adding the second hidden layer\n",
    "model.add(Dense(output_dim = 15, init = 'uniform', activation = 'relu'))\n",
    "# Adding the output layer\n",
    "model.add(Dense(output_dim = 1, init = 'uniform', activation = 'sigmoid'))"
   ]
  },
  {
   "cell_type": "code",
   "execution_count": 44,
   "metadata": {
    "collapsed": true
   },
   "outputs": [],
   "source": [
    "# Compiling Neural Network\n",
    "model.compile(optimizer = 'rmsprop', loss = 'binary_crossentropy', metrics = ['accuracy'])\n",
    "#classifier.add(Flatten())"
   ]
  },
  {
   "cell_type": "code",
   "execution_count": 45,
   "metadata": {},
   "outputs": [
    {
     "name": "stdout",
     "output_type": "stream",
     "text": [
      "Epoch 1/100\n",
      "22621/22621 [==============================] - 3s 117us/step - loss: 0.4000 - acc: 0.8183\n",
      "Epoch 2/100\n",
      "22621/22621 [==============================] - 2s 97us/step - loss: 0.3999 - acc: 0.8183\n",
      "Epoch 3/100\n",
      "22621/22621 [==============================] - 2s 92us/step - loss: 0.3997 - acc: 0.8180\n",
      "Epoch 4/100\n",
      "22621/22621 [==============================] - 2s 92us/step - loss: 0.3985 - acc: 0.8184\n",
      "Epoch 5/100\n",
      "22621/22621 [==============================] - 2s 92us/step - loss: 0.4012 - acc: 0.8187\n",
      "Epoch 6/100\n",
      "22621/22621 [==============================] - 2s 93us/step - loss: 0.3998 - acc: 0.8188\n",
      "Epoch 7/100\n",
      "22621/22621 [==============================] - 3s 113us/step - loss: 0.3987 - acc: 0.8179\n",
      "Epoch 8/100\n",
      "22621/22621 [==============================] - 2s 108us/step - loss: 0.4002 - acc: 0.8186\n",
      "Epoch 9/100\n",
      "22621/22621 [==============================] - 3s 121us/step - loss: 0.3997 - acc: 0.8179\n",
      "Epoch 10/100\n",
      "22621/22621 [==============================] - 2s 102us/step - loss: 0.4000 - acc: 0.8177\n",
      "Epoch 11/100\n",
      "22621/22621 [==============================] - 3s 125us/step - loss: 0.3998 - acc: 0.8177\n",
      "Epoch 12/100\n",
      "22621/22621 [==============================] - 2s 109us/step - loss: 0.3993 - acc: 0.8192\n",
      "Epoch 13/100\n",
      "22621/22621 [==============================] - 2s 94us/step - loss: 0.3989 - acc: 0.8187\n",
      "Epoch 14/100\n",
      "22621/22621 [==============================] - 3s 117us/step - loss: 0.3988 - acc: 0.8179\n",
      "Epoch 15/100\n",
      "22621/22621 [==============================] - 3s 124us/step - loss: 0.3996 - acc: 0.8171\n",
      "Epoch 16/100\n",
      "22621/22621 [==============================] - 2s 108us/step - loss: 0.4004 - acc: 0.8192\n",
      "Epoch 17/100\n",
      "22621/22621 [==============================] - 3s 121us/step - loss: 0.3997 - acc: 0.8169\n",
      "Epoch 18/100\n",
      "22621/22621 [==============================] - 3s 124us/step - loss: 0.3993 - acc: 0.8180\n",
      "Epoch 19/100\n",
      "22621/22621 [==============================] - 3s 147us/step - loss: 0.4006 - acc: 0.8183\n",
      "Epoch 20/100\n",
      "22621/22621 [==============================] - 3s 146us/step - loss: 0.4002 - acc: 0.8178\n",
      "Epoch 21/100\n",
      "22621/22621 [==============================] - 3s 140us/step - loss: 0.4002 - acc: 0.8183\n",
      "Epoch 22/100\n",
      "22621/22621 [==============================] - 3s 126us/step - loss: 0.3998 - acc: 0.8178\n",
      "Epoch 23/100\n",
      "22621/22621 [==============================] - 2s 108us/step - loss: 0.3997 - acc: 0.8189\n",
      "Epoch 24/100\n",
      "22621/22621 [==============================] - 3s 123us/step - loss: 0.3992 - acc: 0.8182\n",
      "Epoch 25/100\n",
      "22621/22621 [==============================] - 3s 129us/step - loss: 0.4000 - acc: 0.8195\n",
      "Epoch 26/100\n",
      "22621/22621 [==============================] - 3s 142us/step - loss: 0.3997 - acc: 0.8169\n",
      "Epoch 27/100\n",
      "22621/22621 [==============================] - 3s 123us/step - loss: 0.3995 - acc: 0.8187\n",
      "Epoch 28/100\n",
      "22621/22621 [==============================] - 3s 126us/step - loss: 0.3999 - acc: 0.8182\n",
      "Epoch 29/100\n",
      "22621/22621 [==============================] - 3s 128us/step - loss: 0.4002 - acc: 0.8171\n",
      "Epoch 30/100\n",
      "22621/22621 [==============================] - 2s 107us/step - loss: 0.4002 - acc: 0.8177\n",
      "Epoch 31/100\n",
      "22621/22621 [==============================] - 3s 114us/step - loss: 0.4004 - acc: 0.8178\n",
      "Epoch 32/100\n",
      "22621/22621 [==============================] - 3s 140us/step - loss: 0.4001 - acc: 0.8188\n",
      "Epoch 33/100\n",
      "22621/22621 [==============================] - 3s 131us/step - loss: 0.3993 - acc: 0.8189\n",
      "Epoch 34/100\n",
      "22621/22621 [==============================] - 3s 151us/step - loss: 0.3989 - acc: 0.8182\n",
      "Epoch 35/100\n",
      "22621/22621 [==============================] - 4s 159us/step - loss: 0.4003 - acc: 0.8178\n",
      "Epoch 36/100\n",
      "22621/22621 [==============================] - 3s 129us/step - loss: 0.3999 - acc: 0.8183\n",
      "Epoch 37/100\n",
      "22621/22621 [==============================] - 3s 128us/step - loss: 0.3991 - acc: 0.8185\n",
      "Epoch 38/100\n",
      "22621/22621 [==============================] - 3s 112us/step - loss: 0.3982 - acc: 0.8183\n",
      "Epoch 39/100\n",
      "22621/22621 [==============================] - 4s 177us/step - loss: 0.4002 - acc: 0.8183\n",
      "Epoch 40/100\n",
      "22621/22621 [==============================] - 3s 141us/step - loss: 0.3994 - acc: 0.8182\n",
      "Epoch 41/100\n",
      "22621/22621 [==============================] - 3s 129us/step - loss: 0.3998 - acc: 0.8185\n",
      "Epoch 42/100\n",
      "22621/22621 [==============================] - 2s 106us/step - loss: 0.3996 - acc: 0.8188\n",
      "Epoch 43/100\n",
      "22621/22621 [==============================] - 2s 103us/step - loss: 0.3995 - acc: 0.8187\n",
      "Epoch 44/100\n",
      "22621/22621 [==============================] - 3s 117us/step - loss: 0.3980 - acc: 0.8183\n",
      "Epoch 45/100\n",
      "22621/22621 [==============================] - 3s 125us/step - loss: 0.3987 - acc: 0.8188\n",
      "Epoch 46/100\n",
      "22621/22621 [==============================] - 3s 122us/step - loss: 0.3981 - acc: 0.8186\n",
      "Epoch 47/100\n",
      "22621/22621 [==============================] - 2s 103us/step - loss: 0.3984 - acc: 0.8187\n",
      "Epoch 48/100\n",
      "22621/22621 [==============================] - 3s 117us/step - loss: 0.3978 - acc: 0.8187\n",
      "Epoch 49/100\n",
      "22621/22621 [==============================] - 3s 131us/step - loss: 0.3978 - acc: 0.8185\n",
      "Epoch 50/100\n",
      "22621/22621 [==============================] - 2s 105us/step - loss: 0.3986 - acc: 0.8194\n",
      "Epoch 51/100\n",
      "22621/22621 [==============================] - 3s 132us/step - loss: 0.3987 - acc: 0.8202\n",
      "Epoch 52/100\n",
      "22621/22621 [==============================] - 3s 114us/step - loss: 0.3973 - acc: 0.8182\n",
      "Epoch 53/100\n",
      "22621/22621 [==============================] - 3s 111us/step - loss: 0.3987 - acc: 0.8186\n",
      "Epoch 54/100\n",
      "22621/22621 [==============================] - 3s 124us/step - loss: 0.3975 - acc: 0.8184\n",
      "Epoch 55/100\n",
      "22621/22621 [==============================] - 2s 96us/step - loss: 0.3978 - acc: 0.8184\n",
      "Epoch 56/100\n",
      "22621/22621 [==============================] - 2s 101us/step - loss: 0.3981 - acc: 0.8184\n",
      "Epoch 57/100\n",
      "22621/22621 [==============================] - 3s 120us/step - loss: 0.3981 - acc: 0.8182\n",
      "Epoch 58/100\n",
      "22621/22621 [==============================] - 3s 117us/step - loss: 0.3976 - acc: 0.8183\n",
      "Epoch 59/100\n",
      "22621/22621 [==============================] - 2s 103us/step - loss: 0.3975 - acc: 0.8188\n",
      "Epoch 60/100\n",
      "22621/22621 [==============================] - 3s 122us/step - loss: 0.3970 - acc: 0.8193\n",
      "Epoch 61/100\n",
      "22621/22621 [==============================] - 3s 114us/step - loss: 0.3981 - acc: 0.8187\n",
      "Epoch 62/100\n",
      "22621/22621 [==============================] - 3s 118us/step - loss: 0.3984 - acc: 0.8188\n",
      "Epoch 63/100\n",
      "22621/22621 [==============================] - 3s 122us/step - loss: 0.3989 - acc: 0.8192\n",
      "Epoch 64/100\n",
      "22621/22621 [==============================] - 3s 118us/step - loss: 0.3980 - acc: 0.8190\n",
      "Epoch 65/100\n",
      "22621/22621 [==============================] - 3s 112us/step - loss: 0.3975 - acc: 0.8185\n",
      "Epoch 66/100\n",
      "22621/22621 [==============================] - 3s 112us/step - loss: 0.3991 - acc: 0.8180\n",
      "Epoch 67/100\n",
      "22621/22621 [==============================] - 3s 121us/step - loss: 0.4002 - acc: 0.8190\n",
      "Epoch 68/100\n",
      "22621/22621 [==============================] - 2s 100us/step - loss: 0.3982 - acc: 0.8181\n",
      "Epoch 69/100\n",
      "22621/22621 [==============================] - 3s 121us/step - loss: 0.3983 - acc: 0.8178\n",
      "Epoch 70/100\n",
      "22621/22621 [==============================] - 3s 135us/step - loss: 0.3978 - acc: 0.8187\n",
      "Epoch 71/100\n",
      "22621/22621 [==============================] - 3s 117us/step - loss: 0.3983 - acc: 0.8184\n",
      "Epoch 72/100\n",
      "22621/22621 [==============================] - 3s 115us/step - loss: 0.3988 - acc: 0.8173\n",
      "Epoch 73/100\n",
      "22621/22621 [==============================] - 2s 110us/step - loss: 0.3990 - acc: 0.8188\n",
      "Epoch 74/100\n",
      "22621/22621 [==============================] - 3s 114us/step - loss: 0.3978 - acc: 0.8189\n",
      "Epoch 75/100\n",
      "22621/22621 [==============================] - 3s 136us/step - loss: 0.3989 - acc: 0.8179\n",
      "Epoch 76/100\n",
      "22621/22621 [==============================] - 2s 104us/step - loss: 0.3985 - acc: 0.8188\n",
      "Epoch 77/100\n",
      "22621/22621 [==============================] - 3s 128us/step - loss: 0.3981 - acc: 0.8180\n",
      "Epoch 78/100\n",
      "22621/22621 [==============================] - 3s 130us/step - loss: 0.3982 - acc: 0.8186\n",
      "Epoch 79/100\n",
      "22621/22621 [==============================] - 4s 170us/step - loss: 0.3987 - acc: 0.8185\n",
      "Epoch 80/100\n",
      "22621/22621 [==============================] - 3s 135us/step - loss: 0.3992 - acc: 0.8183\n",
      "Epoch 81/100\n",
      "22621/22621 [==============================] - 3s 115us/step - loss: 0.3979 - acc: 0.8198\n",
      "Epoch 82/100\n",
      "22621/22621 [==============================] - 3s 111us/step - loss: 0.3988 - acc: 0.8187\n",
      "Epoch 83/100\n",
      "22621/22621 [==============================] - 2s 108us/step - loss: 0.3983 - acc: 0.8188\n",
      "Epoch 84/100\n",
      "22621/22621 [==============================] - 2s 110us/step - loss: 0.3973 - acc: 0.8188\n",
      "Epoch 85/100\n",
      "22621/22621 [==============================] - 3s 119us/step - loss: 0.3987 - acc: 0.8185\n",
      "Epoch 86/100\n",
      "22621/22621 [==============================] - 2s 103us/step - loss: 0.3984 - acc: 0.8182\n",
      "Epoch 87/100\n",
      "22621/22621 [==============================] - 2s 102us/step - loss: 0.3987 - acc: 0.8188\n",
      "Epoch 88/100\n",
      "22621/22621 [==============================] - 3s 127us/step - loss: 0.3992 - acc: 0.8184\n",
      "Epoch 89/100\n",
      "22621/22621 [==============================] - 3s 112us/step - loss: 0.3992 - acc: 0.8187\n",
      "Epoch 90/100\n",
      "22621/22621 [==============================] - 2s 97us/step - loss: 0.3989 - acc: 0.8189\n",
      "Epoch 91/100\n",
      "22621/22621 [==============================] - 2s 101us/step - loss: 0.3993 - acc: 0.8198\n",
      "Epoch 92/100\n",
      "22621/22621 [==============================] - 3s 116us/step - loss: 0.3991 - acc: 0.8174\n",
      "Epoch 93/100\n",
      "22621/22621 [==============================] - 2s 101us/step - loss: 0.3997 - acc: 0.8167\n",
      "Epoch 94/100\n",
      "22621/22621 [==============================] - 2s 96us/step - loss: 0.3997 - acc: 0.8173\n",
      "Epoch 95/100\n",
      "22621/22621 [==============================] - 3s 142us/step - loss: 0.4000 - acc: 0.8173\n",
      "Epoch 96/100\n",
      "22621/22621 [==============================] - 3s 126us/step - loss: 0.4006 - acc: 0.8183\n",
      "Epoch 97/100\n",
      "22621/22621 [==============================] - 3s 116us/step - loss: 0.3996 - acc: 0.8190\n",
      "Epoch 98/100\n",
      "22621/22621 [==============================] - 2s 105us/step - loss: 0.3995 - acc: 0.8180\n",
      "Epoch 99/100\n",
      "22621/22621 [==============================] - 3s 122us/step - loss: 0.4004 - acc: 0.8184\n",
      "Epoch 100/100\n",
      "22621/22621 [==============================] - 3s 117us/step - loss: 0.3995 - acc: 0.8166\n"
     ]
    }
   ],
   "source": [
    "# Fitting our model \n",
    "model_history = model.fit(X_train, y_train, batch_size = 10, epochs = 100)"
   ]
  },
  {
   "cell_type": "code",
   "execution_count": 55,
   "metadata": {},
   "outputs": [
    {
     "data": {
      "image/png": "[encoded data removed]",
      "text/plain": [
       "<matplotlib.figure.Figure at 0x167988dcfd0>"
      ]
     },
     "metadata": {},
     "output_type": "display_data"
    }
   ],
   "source": [
    "#plotting NUmber of epochs vs Accuracy\n",
    "plt.plot(model_history.history['acc'])\n",
    "plt.xlabel('Number of epochs')\n",
    "plt.ylabel('Accuracy')\n",
    "plt.show()"
   ]
  },
  {
   "cell_type": "code",
   "execution_count": 56,
   "metadata": {},
   "outputs": [
    {
     "data": {
      "image/png": "[encoded data removed]",
      "text/plain": [
       "<matplotlib.figure.Figure at 0x1679907f940>"
      ]
     },
     "metadata": {},
     "output_type": "display_data"
    }
   ],
   "source": [
    "#plotting number of epochs vs loss\n",
    "plt.plot(model_history.history['loss'])\n",
    "plt.xlabel('NUmber of epochs')\n",
    "plt.ylabel('Loss')\n",
    "plt.show()"
   ]
  },
  {
   "cell_type": "code",
   "execution_count": 67,
   "metadata": {
    "collapsed": true
   },
   "outputs": [],
   "source": [
    "# Predicting the Test set results\n",
    "y_pred = classifier.predict(X_test)\n",
    "y_pred = (y_pred > 0.5)"
   ]
  },
  {
   "cell_type": "code",
   "execution_count": 68,
   "metadata": {},
   "outputs": [
    {
     "name": "stdout",
     "output_type": "stream",
     "text": [
      "[[3751 1877]\n",
      " [ 240 1673]]\n"
     ]
    }
   ],
   "source": [
    "# Creating the Confusion Matrix of neural network predictions\n",
    "from sklearn.metrics import confusion_matrix\n",
    "cm = confusion_matrix(y_test, y_pred)\n",
    "print(cm)"
   ]
  },
  {
   "cell_type": "code",
   "execution_count": 69,
   "metadata": {},
   "outputs": [
    {
     "name": "stdout",
     "output_type": "stream",
     "text": [
      "             precision    recall  f1-score   support\n",
      "\n",
      "          0       0.94      0.67      0.78      5628\n",
      "          1       0.47      0.87      0.61      1913\n",
      "\n",
      "avg / total       0.82      0.72      0.74      7541\n",
      "\n"
     ]
    }
   ],
   "source": [
    "from sklearn.metrics import classification_report\n",
    "print(classification_report(y_test, y_pred))"
   ]
  }
 ],
 "metadata": {
  "kernelspec": {
   "display_name": "Python 3",
   "language": "python",
   "name": "python3"
  },
  "language_info": {
   "codemirror_mode": {
    "name": "ipython",
    "version": 3
   },
   "file_extension": ".py",
   "mimetype": "text/x-python",
   "name": "python",
   "nbconvert_exporter": "python",
   "pygments_lexer": "ipython3",
   "version": "3.6.3"
  }
 },
 "nbformat": 4,
 "nbformat_minor": 2
}
